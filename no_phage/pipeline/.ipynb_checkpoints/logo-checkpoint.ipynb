{
 "cells": [
  {
   "cell_type": "markdown",
   "id": "695b62a0",
   "metadata": {},
   "source": [
    "# This script will prepare the tables for reads logo"
   ]
  },
  {
   "cell_type": "code",
   "execution_count": 1,
   "id": "d5540ecd",
   "metadata": {},
   "outputs": [],
   "source": [
    "import pandas as pd"
   ]
  },
  {
   "cell_type": "code",
   "execution_count": null,
   "id": "6be653e1",
   "metadata": {},
   "outputs": [],
   "source": []
  },
  {
   "cell_type": "code",
   "execution_count": null,
   "id": "1b23918a",
   "metadata": {},
   "outputs": [],
   "source": []
  },
  {
   "cell_type": "code",
   "execution_count": null,
   "id": "1219289a",
   "metadata": {},
   "outputs": [],
   "source": []
  },
  {
   "cell_type": "code",
   "execution_count": null,
   "id": "31089114",
   "metadata": {},
   "outputs": [],
   "source": []
  },
  {
   "cell_type": "code",
   "execution_count": null,
   "id": "9c50062b",
   "metadata": {},
   "outputs": [],
   "source": []
  },
  {
   "cell_type": "markdown",
   "id": "547254a4",
   "metadata": {},
   "source": [
    "## 1. smDNA logo and length distribution"
   ]
  },
  {
   "cell_type": "code",
   "execution_count": 7,
   "id": "1976ebe9",
   "metadata": {},
   "outputs": [],
   "source": [
    "reads = pd.read_csv('../logo/aligned.fastq', sep='\\t', header=None)\n",
    "reads.columns = ['fastq']"
   ]
  },
  {
   "cell_type": "code",
   "execution_count": 8,
   "id": "83dd6b6d",
   "metadata": {},
   "outputs": [],
   "source": [
    "reads = reads.query('(index+3)%4 == 0')"
   ]
  },
  {
   "cell_type": "code",
   "execution_count": 10,
   "id": "a1f57a5f",
   "metadata": {},
   "outputs": [],
   "source": [
    "reads['length'] = reads.apply(lambda x: len(x['fastq']),axis=1)"
   ]
  },
  {
   "cell_type": "code",
   "execution_count": 25,
   "id": "bb062fac",
   "metadata": {},
   "outputs": [],
   "source": [
    "lengths = reads['length'].value_counts().reset_index().sort_values(by='index').reset_index(drop=True)\n",
    "lengths.columns = ['length', 'number']\n",
    "lengths['percent'] = lengths['number'] / (lengths['number'].sum()) * 100"
   ]
  },
  {
   "cell_type": "code",
   "execution_count": 27,
   "id": "9be99488",
   "metadata": {},
   "outputs": [],
   "source": [
    "lengths.to_csv('../logo/lengths.tsv', sep='\\t', header=True, index=False)"
   ]
  },
  {
   "cell_type": "code",
   "execution_count": 28,
   "id": "07069629",
   "metadata": {},
   "outputs": [],
   "source": [
    "reads_17 = reads.query('length >= 17')['fastq']"
   ]
  },
  {
   "cell_type": "code",
   "execution_count": 30,
   "id": "5f7caad8",
   "metadata": {},
   "outputs": [],
   "source": [
    "reads_17_list = []\n",
    "\n",
    "for read in reads_17:\n",
    "    reads_17_list.append(read[:17])\n",
    "    \n",
    "reads_17 = pd.DataFrame(reads_17_list)"
   ]
  },
  {
   "cell_type": "code",
   "execution_count": 32,
   "id": "b431f570",
   "metadata": {},
   "outputs": [],
   "source": [
    "reads_17.to_csv('../logo/logo.txt', index=False, header=False)"
   ]
  },
  {
   "cell_type": "markdown",
   "id": "7a3d0126",
   "metadata": {},
   "source": [
    "## 2. GC-content calculation"
   ]
  },
  {
   "cell_type": "markdown",
   "id": "b28efbbf",
   "metadata": {},
   "source": [
    "**Read a preformated alignment file**"
   ]
  },
  {
   "cell_type": "code",
   "execution_count": 2,
   "id": "339821b7",
   "metadata": {
    "scrolled": true
   },
   "outputs": [],
   "source": [
    "reads = pd.read_csv('../logo/aligned.tsv', sep='\\t', header=None)\n",
    "reads.columns = ['flag', 'chr', 'position', 'sequence']\n",
    "reads['length'] = reads.apply(lambda x: len(x['sequence']),axis=1)"
   ]
  },
  {
   "cell_type": "code",
   "execution_count": 3,
   "id": "2e260a2d",
   "metadata": {
    "scrolled": false
   },
   "outputs": [
    {
     "name": "stdout",
     "output_type": "stream",
     "text": [
      "the number of reads mapped to genome in positive orientation is 1118042\n"
     ]
    },
    {
     "name": "stderr",
     "output_type": "stream",
     "text": [
      "/tmp/ipykernel_30480/2624883778.py:2: SettingWithCopyWarning: \n",
      "A value is trying to be set on a copy of a slice from a DataFrame.\n",
      "Try using .loc[row_indexer,col_indexer] = value instead\n",
      "\n",
      "See the caveats in the documentation: https://pandas.pydata.org/pandas-docs/stable/user_guide/indexing.html#returning-a-view-versus-a-copy\n",
      "  plus_genome['start_position'] = plus_genome['position']\n"
     ]
    }
   ],
   "source": [
    "plus_genome = reads.query('flag == 0 and chr != \"plasmid\"')\n",
    "plus_genome['start_position'] = plus_genome['position']\n",
    "print('the number of reads mapped to genome in positive orientation is', len(plus_genome))"
   ]
  },
  {
   "cell_type": "code",
   "execution_count": 4,
   "id": "a7cd57a1",
   "metadata": {},
   "outputs": [
    {
     "name": "stdout",
     "output_type": "stream",
     "text": [
      "the number of reads mapped to plasmid in positive orientation is 518985\n"
     ]
    },
    {
     "name": "stderr",
     "output_type": "stream",
     "text": [
      "/tmp/ipykernel_30480/2104207369.py:2: SettingWithCopyWarning: \n",
      "A value is trying to be set on a copy of a slice from a DataFrame.\n",
      "Try using .loc[row_indexer,col_indexer] = value instead\n",
      "\n",
      "See the caveats in the documentation: https://pandas.pydata.org/pandas-docs/stable/user_guide/indexing.html#returning-a-view-versus-a-copy\n",
      "  plus_plasmid['start_position'] = plus_plasmid['position']\n"
     ]
    }
   ],
   "source": [
    "plus_plasmid = reads.query('flag == 0 and chr == \"plasmid\"')\n",
    "plus_plasmid['start_position'] = plus_plasmid['position']\n",
    "print('the number of reads mapped to plasmid in positive orientation is', len(plus_plasmid))"
   ]
  },
  {
   "cell_type": "code",
   "execution_count": 5,
   "id": "c8e90308",
   "metadata": {
    "scrolled": true
   },
   "outputs": [
    {
     "name": "stdout",
     "output_type": "stream",
     "text": [
      "the number of reads mapped to genome in negative orientation is 1135303\n"
     ]
    },
    {
     "name": "stderr",
     "output_type": "stream",
     "text": [
      "/tmp/ipykernel_30480/2826149608.py:2: SettingWithCopyWarning: \n",
      "A value is trying to be set on a copy of a slice from a DataFrame.\n",
      "Try using .loc[row_indexer,col_indexer] = value instead\n",
      "\n",
      "See the caveats in the documentation: https://pandas.pydata.org/pandas-docs/stable/user_guide/indexing.html#returning-a-view-versus-a-copy\n",
      "  minus_genome['start_position'] = minus_genome['position'] + minus_genome['length'] - 1\n"
     ]
    }
   ],
   "source": [
    "minus_genome = reads.query('flag == 16 and chr != \"plasmid\"')\n",
    "minus_genome['start_position'] = minus_genome['position'] + minus_genome['length'] - 1\n",
    "print('the number of reads mapped to genome in negative orientation is', len(minus_genome))"
   ]
  },
  {
   "cell_type": "code",
   "execution_count": 6,
   "id": "9f4ccd74",
   "metadata": {
    "scrolled": true
   },
   "outputs": [
    {
     "name": "stdout",
     "output_type": "stream",
     "text": [
      "the number of reads mapped to plasmid in negative orientation is 620499\n"
     ]
    },
    {
     "name": "stderr",
     "output_type": "stream",
     "text": [
      "/tmp/ipykernel_30480/1780695807.py:2: SettingWithCopyWarning: \n",
      "A value is trying to be set on a copy of a slice from a DataFrame.\n",
      "Try using .loc[row_indexer,col_indexer] = value instead\n",
      "\n",
      "See the caveats in the documentation: https://pandas.pydata.org/pandas-docs/stable/user_guide/indexing.html#returning-a-view-versus-a-copy\n",
      "  minus_plasmid['start_position'] = minus_plasmid['position'] + minus_plasmid['length'] - 1\n"
     ]
    }
   ],
   "source": [
    "minus_plasmid = reads.query('flag == 16 and chr == \"plasmid\"')\n",
    "minus_plasmid['start_position'] = minus_plasmid['position'] + minus_plasmid['length'] - 1\n",
    "print('the number of reads mapped to plasmid in negative orientation is', len(minus_plasmid))"
   ]
  },
  {
   "cell_type": "markdown",
   "id": "0fd31b42",
   "metadata": {},
   "source": [
    "**And now we will read and format genome and plasmid sequence files**"
   ]
  },
  {
   "cell_type": "code",
   "execution_count": 29,
   "id": "4807ad0a",
   "metadata": {
    "scrolled": true
   },
   "outputs": [],
   "source": [
    "genome = pd.read_csv('../reference/genome.fa', sep='\\t')\n",
    "genome_name = genome.columns[0][1:12]\n",
    "genome.columns = ['fasta']\n",
    "plasmid = pd.read_csv('../reference/plasmid.fa', sep='\\t')\n",
    "plasmid.columns = ['fasta']"
   ]
  },
  {
   "cell_type": "code",
   "execution_count": 30,
   "id": "ae84a4dd",
   "metadata": {
    "scrolled": false
   },
   "outputs": [],
   "source": [
    "genome = str(genome['fasta'].sum()).upper()\n",
    "plasmid = str(plasmid['fasta'].sum()).upper()"
   ]
  },
  {
   "cell_type": "code",
   "execution_count": 31,
   "id": "d0ff7f78",
   "metadata": {},
   "outputs": [],
   "source": [
    "genome_length = len(genome)\n",
    "plasmid_length = len(plasmid)"
   ]
  },
  {
   "cell_type": "code",
   "execution_count": 10,
   "id": "4e486604",
   "metadata": {},
   "outputs": [],
   "source": [
    "def GC_content(seq):\n",
    "    GC_number = 0\n",
    "    for N in seq:\n",
    "        if N == 'C' or N == 'G':\n",
    "            GC_number += 1\n",
    "    return GC_number / len(seq) * 100"
   ]
  },
  {
   "cell_type": "code",
   "execution_count": 95,
   "id": "95eb49ae",
   "metadata": {
    "scrolled": true
   },
   "outputs": [],
   "source": [
    "with open('../logo/total_plasmid_GC.txt', 'w') as ouf:\n",
    "    ouf.write(str(GC_content(plasmid)))\n",
    "    ouf.write('\\n')\n",
    "\n",
    "with open('../logo/total_genome_GC.txt', 'w') as ouf:\n",
    "    ouf.write(str(GC_content(genome)))\n",
    "    ouf.write('\\n')"
   ]
  },
  {
   "cell_type": "markdown",
   "id": "eaaa569c",
   "metadata": {},
   "source": [
    "**GC-content**"
   ]
  },
  {
   "cell_type": "code",
   "execution_count": 11,
   "id": "30783302",
   "metadata": {},
   "outputs": [],
   "source": [
    "plus_genome_logo = []\n",
    "\n",
    "for start_position in plus_genome['start_position']:\n",
    "    if start_position >= 16 and start_position <= (genome_length - 30):\n",
    "        plus_genome_logo.append(genome[start_position - 16 : start_position + 29])"
   ]
  },
  {
   "cell_type": "code",
   "execution_count": 12,
   "id": "3dffea84",
   "metadata": {},
   "outputs": [],
   "source": [
    "plus_plasmid_logo = []\n",
    "\n",
    "for start_position in plus_plasmid['start_position']:\n",
    "    if start_position >= 16 and start_position <= (plasmid_length - 30):\n",
    "        plus_plasmid_logo.append(plasmid[start_position - 16 : start_position + 29])"
   ]
  },
  {
   "cell_type": "code",
   "execution_count": 13,
   "id": "9e9c1c4c",
   "metadata": {},
   "outputs": [],
   "source": [
    "def reverse_complement(seq):\n",
    "    '''\n",
    "    This function takes a string with dna sequence and returns a string with reverse complement sequence.\n",
    "    '''\n",
    "    reverse_seq = seq[::-1]\n",
    "    dictionary = {'A': 'T', 'T': 'A', 'G': 'C', 'C': 'G'}\n",
    "    reverse_complement_seq = str()\n",
    "    for letter in reverse_seq:\n",
    "        reverse_complement_seq += dictionary[letter]\n",
    "    return reverse_complement_seq"
   ]
  },
  {
   "cell_type": "code",
   "execution_count": 14,
   "id": "340e55cb",
   "metadata": {},
   "outputs": [],
   "source": [
    "minus_genome_logo = []\n",
    "\n",
    "for start_position in minus_genome['start_position']:\n",
    "    if start_position >= 30 and start_position <= (genome_length - 16):\n",
    "        minus_genome_logo.append(reverse_complement(genome[start_position - 30 : start_position + 15]))"
   ]
  },
  {
   "cell_type": "code",
   "execution_count": 15,
   "id": "3c4720e9",
   "metadata": {},
   "outputs": [],
   "source": [
    "minus_plasmid_logo = []\n",
    "\n",
    "for start_position in minus_plasmid['start_position']:\n",
    "    if start_position >= 30 and start_position <= (plasmid_length - 16):\n",
    "        minus_plasmid_logo.append(reverse_complement(plasmid[start_position - 30 : start_position + 15]))"
   ]
  },
  {
   "cell_type": "code",
   "execution_count": 16,
   "id": "1bc24f45",
   "metadata": {},
   "outputs": [],
   "source": [
    "genome_logo = plus_genome_logo + minus_genome_logo\n",
    "plasmid_logo = plus_plasmid_logo + minus_plasmid_logo"
   ]
  },
  {
   "cell_type": "code",
   "execution_count": 17,
   "id": "24948d52",
   "metadata": {},
   "outputs": [],
   "source": [
    "genome_GC = []\n",
    "\n",
    "for nucleotide in range(len(genome_logo[0])):\n",
    "    position = str()\n",
    "    for read in genome_logo:\n",
    "        position += read[nucleotide]\n",
    "    genome_GC.append(GC_content(position))"
   ]
  },
  {
   "cell_type": "code",
   "execution_count": 18,
   "id": "8764d197",
   "metadata": {},
   "outputs": [],
   "source": [
    "plasmid_GC = []\n",
    "\n",
    "for nucleotide in range(len(plasmid_logo[0])):\n",
    "    position = str()\n",
    "    for read in plasmid_logo:\n",
    "        position += read[nucleotide]\n",
    "    plasmid_GC.append(GC_content(position))"
   ]
  },
  {
   "cell_type": "code",
   "execution_count": 27,
   "id": "719e9ac9",
   "metadata": {},
   "outputs": [
    {
     "data": {
      "text/plain": [
       "[-15,\n",
       " -14,\n",
       " -13,\n",
       " -12,\n",
       " -11,\n",
       " -10,\n",
       " -9,\n",
       " -8,\n",
       " -7,\n",
       " -6,\n",
       " -5,\n",
       " -4,\n",
       " -3,\n",
       " -2,\n",
       " -1,\n",
       " 1,\n",
       " 2,\n",
       " 3,\n",
       " 4,\n",
       " 5,\n",
       " 6,\n",
       " 7,\n",
       " 8,\n",
       " 9,\n",
       " 10,\n",
       " 11,\n",
       " 12,\n",
       " 13,\n",
       " 14,\n",
       " 15,\n",
       " 16,\n",
       " 17,\n",
       " 18,\n",
       " 19,\n",
       " 20,\n",
       " 21,\n",
       " 22,\n",
       " 23,\n",
       " 24,\n",
       " 25,\n",
       " 26,\n",
       " 27,\n",
       " 28,\n",
       " 29,\n",
       " 30]"
      ]
     },
     "execution_count": 27,
     "metadata": {},
     "output_type": "execute_result"
    }
   ],
   "source": [
    "positions = []\n",
    "for i in range(-15, 0):\n",
    "    positions.append(i)\n",
    "for i in range(1, 31):\n",
    "    positions.append(i)\n",
    "positions"
   ]
  },
  {
   "cell_type": "code",
   "execution_count": 21,
   "id": "99b563aa",
   "metadata": {},
   "outputs": [],
   "source": [
    "GC = pd.DataFrame({'position': position, 'genome': genome_GC, 'plasmid': plasmid_GC})"
   ]
  },
  {
   "cell_type": "code",
   "execution_count": 22,
   "id": "f2d15ff5",
   "metadata": {},
   "outputs": [],
   "source": [
    "GC.to_csv('../logo/GC_content.tsv', index=False, header=True, sep='\\t')"
   ]
  },
  {
   "cell_type": "code",
   "execution_count": 23,
   "id": "0290bb13",
   "metadata": {},
   "outputs": [
    {
     "data": {
      "text/html": [
       "<div>\n",
       "<style scoped>\n",
       "    .dataframe tbody tr th:only-of-type {\n",
       "        vertical-align: middle;\n",
       "    }\n",
       "\n",
       "    .dataframe tbody tr th {\n",
       "        vertical-align: top;\n",
       "    }\n",
       "\n",
       "    .dataframe thead th {\n",
       "        text-align: right;\n",
       "    }\n",
       "</style>\n",
       "<table border=\"1\" class=\"dataframe\">\n",
       "  <thead>\n",
       "    <tr style=\"text-align: right;\">\n",
       "      <th></th>\n",
       "      <th>position</th>\n",
       "      <th>genome</th>\n",
       "      <th>plasmid</th>\n",
       "    </tr>\n",
       "  </thead>\n",
       "  <tbody>\n",
       "    <tr>\n",
       "      <th>0</th>\n",
       "      <td>GCCGACAGTATGCTGATGCCCCAGGTGTAATCTAGCAGGGACGCCT...</td>\n",
       "      <td>50.671274</td>\n",
       "      <td>48.142934</td>\n",
       "    </tr>\n",
       "    <tr>\n",
       "      <th>1</th>\n",
       "      <td>GCCGACAGTATGCTGATGCCCCAGGTGTAATCTAGCAGGGACGCCT...</td>\n",
       "      <td>50.322057</td>\n",
       "      <td>48.090510</td>\n",
       "    </tr>\n",
       "    <tr>\n",
       "      <th>2</th>\n",
       "      <td>GCCGACAGTATGCTGATGCCCCAGGTGTAATCTAGCAGGGACGCCT...</td>\n",
       "      <td>49.526966</td>\n",
       "      <td>48.017080</td>\n",
       "    </tr>\n",
       "    <tr>\n",
       "      <th>3</th>\n",
       "      <td>GCCGACAGTATGCTGATGCCCCAGGTGTAATCTAGCAGGGACGCCT...</td>\n",
       "      <td>50.154971</td>\n",
       "      <td>47.936854</td>\n",
       "    </tr>\n",
       "    <tr>\n",
       "      <th>4</th>\n",
       "      <td>GCCGACAGTATGCTGATGCCCCAGGTGTAATCTAGCAGGGACGCCT...</td>\n",
       "      <td>50.217678</td>\n",
       "      <td>46.973878</td>\n",
       "    </tr>\n",
       "    <tr>\n",
       "      <th>5</th>\n",
       "      <td>GCCGACAGTATGCTGATGCCCCAGGTGTAATCTAGCAGGGACGCCT...</td>\n",
       "      <td>49.146817</td>\n",
       "      <td>45.920351</td>\n",
       "    </tr>\n",
       "    <tr>\n",
       "      <th>6</th>\n",
       "      <td>GCCGACAGTATGCTGATGCCCCAGGTGTAATCTAGCAGGGACGCCT...</td>\n",
       "      <td>49.677854</td>\n",
       "      <td>46.422094</td>\n",
       "    </tr>\n",
       "    <tr>\n",
       "      <th>7</th>\n",
       "      <td>GCCGACAGTATGCTGATGCCCCAGGTGTAATCTAGCAGGGACGCCT...</td>\n",
       "      <td>49.616700</td>\n",
       "      <td>46.814221</td>\n",
       "    </tr>\n",
       "    <tr>\n",
       "      <th>8</th>\n",
       "      <td>GCCGACAGTATGCTGATGCCCCAGGTGTAATCTAGCAGGGACGCCT...</td>\n",
       "      <td>49.338800</td>\n",
       "      <td>47.977452</td>\n",
       "    </tr>\n",
       "    <tr>\n",
       "      <th>9</th>\n",
       "      <td>GCCGACAGTATGCTGATGCCCCAGGTGTAATCTAGCAGGGACGCCT...</td>\n",
       "      <td>51.127400</td>\n",
       "      <td>48.304180</td>\n",
       "    </tr>\n",
       "    <tr>\n",
       "      <th>10</th>\n",
       "      <td>GCCGACAGTATGCTGATGCCCCAGGTGTAATCTAGCAGGGACGCCT...</td>\n",
       "      <td>50.653301</td>\n",
       "      <td>48.373992</td>\n",
       "    </tr>\n",
       "    <tr>\n",
       "      <th>11</th>\n",
       "      <td>GCCGACAGTATGCTGATGCCCCAGGTGTAATCTAGCAGGGACGCCT...</td>\n",
       "      <td>48.938902</td>\n",
       "      <td>46.719962</td>\n",
       "    </tr>\n",
       "    <tr>\n",
       "      <th>12</th>\n",
       "      <td>GCCGACAGTATGCTGATGCCCCAGGTGTAATCTAGCAGGGACGCCT...</td>\n",
       "      <td>49.244761</td>\n",
       "      <td>48.520852</td>\n",
       "    </tr>\n",
       "    <tr>\n",
       "      <th>13</th>\n",
       "      <td>GCCGACAGTATGCTGATGCCCCAGGTGTAATCTAGCAGGGACGCCT...</td>\n",
       "      <td>47.093985</td>\n",
       "      <td>47.291428</td>\n",
       "    </tr>\n",
       "    <tr>\n",
       "      <th>14</th>\n",
       "      <td>GCCGACAGTATGCTGATGCCCCAGGTGTAATCTAGCAGGGACGCCT...</td>\n",
       "      <td>41.548804</td>\n",
       "      <td>39.324355</td>\n",
       "    </tr>\n",
       "    <tr>\n",
       "      <th>15</th>\n",
       "      <td>GCCGACAGTATGCTGATGCCCCAGGTGTAATCTAGCAGGGACGCCT...</td>\n",
       "      <td>47.511235</td>\n",
       "      <td>46.528356</td>\n",
       "    </tr>\n",
       "    <tr>\n",
       "      <th>16</th>\n",
       "      <td>GCCGACAGTATGCTGATGCCCCAGGTGTAATCTAGCAGGGACGCCT...</td>\n",
       "      <td>49.167142</td>\n",
       "      <td>47.326202</td>\n",
       "    </tr>\n",
       "    <tr>\n",
       "      <th>17</th>\n",
       "      <td>GCCGACAGTATGCTGATGCCCCAGGTGTAATCTAGCAGGGACGCCT...</td>\n",
       "      <td>46.203390</td>\n",
       "      <td>46.480079</td>\n",
       "    </tr>\n",
       "    <tr>\n",
       "      <th>18</th>\n",
       "      <td>GCCGACAGTATGCTGATGCCCCAGGTGTAATCTAGCAGGGACGCCT...</td>\n",
       "      <td>52.697790</td>\n",
       "      <td>49.987247</td>\n",
       "    </tr>\n",
       "    <tr>\n",
       "      <th>19</th>\n",
       "      <td>GCCGACAGTATGCTGATGCCCCAGGTGTAATCTAGCAGGGACGCCT...</td>\n",
       "      <td>56.810155</td>\n",
       "      <td>53.980094</td>\n",
       "    </tr>\n",
       "    <tr>\n",
       "      <th>20</th>\n",
       "      <td>GCCGACAGTATGCTGATGCCCCAGGTGTAATCTAGCAGGGACGCCT...</td>\n",
       "      <td>55.551394</td>\n",
       "      <td>50.817130</td>\n",
       "    </tr>\n",
       "    <tr>\n",
       "      <th>21</th>\n",
       "      <td>GCCGACAGTATGCTGATGCCCCAGGTGTAATCTAGCAGGGACGCCT...</td>\n",
       "      <td>56.321500</td>\n",
       "      <td>51.437314</td>\n",
       "    </tr>\n",
       "    <tr>\n",
       "      <th>22</th>\n",
       "      <td>GCCGACAGTATGCTGATGCCCCAGGTGTAATCTAGCAGGGACGCCT...</td>\n",
       "      <td>54.207203</td>\n",
       "      <td>48.832665</td>\n",
       "    </tr>\n",
       "    <tr>\n",
       "      <th>23</th>\n",
       "      <td>GCCGACAGTATGCTGATGCCCCAGGTGTAATCTAGCAGGGACGCCT...</td>\n",
       "      <td>50.810180</td>\n",
       "      <td>46.281500</td>\n",
       "    </tr>\n",
       "    <tr>\n",
       "      <th>24</th>\n",
       "      <td>GCCGACAGTATGCTGATGCCCCAGGTGTAATCTAGCAGGGACGCCT...</td>\n",
       "      <td>54.356405</td>\n",
       "      <td>51.798816</td>\n",
       "    </tr>\n",
       "    <tr>\n",
       "      <th>25</th>\n",
       "      <td>GCCGACAGTATGCTGATGCCCCAGGTGTAATCTAGCAGGGACGCCT...</td>\n",
       "      <td>51.409827</td>\n",
       "      <td>48.592782</td>\n",
       "    </tr>\n",
       "    <tr>\n",
       "      <th>26</th>\n",
       "      <td>GCCGACAGTATGCTGATGCCCCAGGTGTAATCTAGCAGGGACGCCT...</td>\n",
       "      <td>49.801627</td>\n",
       "      <td>49.057456</td>\n",
       "    </tr>\n",
       "    <tr>\n",
       "      <th>27</th>\n",
       "      <td>GCCGACAGTATGCTGATGCCCCAGGTGTAATCTAGCAGGGACGCCT...</td>\n",
       "      <td>49.899926</td>\n",
       "      <td>49.825383</td>\n",
       "    </tr>\n",
       "    <tr>\n",
       "      <th>28</th>\n",
       "      <td>GCCGACAGTATGCTGATGCCCCAGGTGTAATCTAGCAGGGACGCCT...</td>\n",
       "      <td>46.313583</td>\n",
       "      <td>48.214246</td>\n",
       "    </tr>\n",
       "    <tr>\n",
       "      <th>29</th>\n",
       "      <td>GCCGACAGTATGCTGATGCCCCAGGTGTAATCTAGCAGGGACGCCT...</td>\n",
       "      <td>43.745335</td>\n",
       "      <td>45.722567</td>\n",
       "    </tr>\n",
       "    <tr>\n",
       "      <th>30</th>\n",
       "      <td>GCCGACAGTATGCTGATGCCCCAGGTGTAATCTAGCAGGGACGCCT...</td>\n",
       "      <td>44.283606</td>\n",
       "      <td>44.286974</td>\n",
       "    </tr>\n",
       "    <tr>\n",
       "      <th>31</th>\n",
       "      <td>GCCGACAGTATGCTGATGCCCCAGGTGTAATCTAGCAGGGACGCCT...</td>\n",
       "      <td>45.903078</td>\n",
       "      <td>45.142275</td>\n",
       "    </tr>\n",
       "    <tr>\n",
       "      <th>32</th>\n",
       "      <td>GCCGACAGTATGCTGATGCCCCAGGTGTAATCTAGCAGGGACGCCT...</td>\n",
       "      <td>45.756983</td>\n",
       "      <td>43.338032</td>\n",
       "    </tr>\n",
       "    <tr>\n",
       "      <th>33</th>\n",
       "      <td>GCCGACAGTATGCTGATGCCCCAGGTGTAATCTAGCAGGGACGCCT...</td>\n",
       "      <td>50.379217</td>\n",
       "      <td>47.522221</td>\n",
       "    </tr>\n",
       "    <tr>\n",
       "      <th>34</th>\n",
       "      <td>GCCGACAGTATGCTGATGCCCCAGGTGTAATCTAGCAGGGACGCCT...</td>\n",
       "      <td>53.018826</td>\n",
       "      <td>50.529676</td>\n",
       "    </tr>\n",
       "    <tr>\n",
       "      <th>35</th>\n",
       "      <td>GCCGACAGTATGCTGATGCCCCAGGTGTAATCTAGCAGGGACGCCT...</td>\n",
       "      <td>51.641840</td>\n",
       "      <td>48.749880</td>\n",
       "    </tr>\n",
       "    <tr>\n",
       "      <th>36</th>\n",
       "      <td>GCCGACAGTATGCTGATGCCCCAGGTGTAATCTAGCAGGGACGCCT...</td>\n",
       "      <td>51.476928</td>\n",
       "      <td>50.945368</td>\n",
       "    </tr>\n",
       "    <tr>\n",
       "      <th>37</th>\n",
       "      <td>GCCGACAGTATGCTGATGCCCCAGGTGTAATCTAGCAGGGACGCCT...</td>\n",
       "      <td>50.541111</td>\n",
       "      <td>48.284058</td>\n",
       "    </tr>\n",
       "    <tr>\n",
       "      <th>38</th>\n",
       "      <td>GCCGACAGTATGCTGATGCCCCAGGTGTAATCTAGCAGGGACGCCT...</td>\n",
       "      <td>49.918565</td>\n",
       "      <td>48.280969</td>\n",
       "    </tr>\n",
       "    <tr>\n",
       "      <th>39</th>\n",
       "      <td>GCCGACAGTATGCTGATGCCCCAGGTGTAATCTAGCAGGGACGCCT...</td>\n",
       "      <td>50.342383</td>\n",
       "      <td>46.206128</td>\n",
       "    </tr>\n",
       "    <tr>\n",
       "      <th>40</th>\n",
       "      <td>GCCGACAGTATGCTGATGCCCCAGGTGTAATCTAGCAGGGACGCCT...</td>\n",
       "      <td>50.367767</td>\n",
       "      <td>47.369889</td>\n",
       "    </tr>\n",
       "    <tr>\n",
       "      <th>41</th>\n",
       "      <td>GCCGACAGTATGCTGATGCCCCAGGTGTAATCTAGCAGGGACGCCT...</td>\n",
       "      <td>49.693032</td>\n",
       "      <td>48.774945</td>\n",
       "    </tr>\n",
       "    <tr>\n",
       "      <th>42</th>\n",
       "      <td>GCCGACAGTATGCTGATGCCCCAGGTGTAATCTAGCAGGGACGCCT...</td>\n",
       "      <td>50.320992</td>\n",
       "      <td>48.620671</td>\n",
       "    </tr>\n",
       "    <tr>\n",
       "      <th>43</th>\n",
       "      <td>GCCGACAGTATGCTGATGCCCCAGGTGTAATCTAGCAGGGACGCCT...</td>\n",
       "      <td>50.303640</td>\n",
       "      <td>48.532149</td>\n",
       "    </tr>\n",
       "    <tr>\n",
       "      <th>44</th>\n",
       "      <td>GCCGACAGTATGCTGATGCCCCAGGTGTAATCTAGCAGGGACGCCT...</td>\n",
       "      <td>49.543209</td>\n",
       "      <td>48.401793</td>\n",
       "    </tr>\n",
       "  </tbody>\n",
       "</table>\n",
       "</div>"
      ],
      "text/plain": [
       "                                             position     genome    plasmid\n",
       "0   GCCGACAGTATGCTGATGCCCCAGGTGTAATCTAGCAGGGACGCCT...  50.671274  48.142934\n",
       "1   GCCGACAGTATGCTGATGCCCCAGGTGTAATCTAGCAGGGACGCCT...  50.322057  48.090510\n",
       "2   GCCGACAGTATGCTGATGCCCCAGGTGTAATCTAGCAGGGACGCCT...  49.526966  48.017080\n",
       "3   GCCGACAGTATGCTGATGCCCCAGGTGTAATCTAGCAGGGACGCCT...  50.154971  47.936854\n",
       "4   GCCGACAGTATGCTGATGCCCCAGGTGTAATCTAGCAGGGACGCCT...  50.217678  46.973878\n",
       "5   GCCGACAGTATGCTGATGCCCCAGGTGTAATCTAGCAGGGACGCCT...  49.146817  45.920351\n",
       "6   GCCGACAGTATGCTGATGCCCCAGGTGTAATCTAGCAGGGACGCCT...  49.677854  46.422094\n",
       "7   GCCGACAGTATGCTGATGCCCCAGGTGTAATCTAGCAGGGACGCCT...  49.616700  46.814221\n",
       "8   GCCGACAGTATGCTGATGCCCCAGGTGTAATCTAGCAGGGACGCCT...  49.338800  47.977452\n",
       "9   GCCGACAGTATGCTGATGCCCCAGGTGTAATCTAGCAGGGACGCCT...  51.127400  48.304180\n",
       "10  GCCGACAGTATGCTGATGCCCCAGGTGTAATCTAGCAGGGACGCCT...  50.653301  48.373992\n",
       "11  GCCGACAGTATGCTGATGCCCCAGGTGTAATCTAGCAGGGACGCCT...  48.938902  46.719962\n",
       "12  GCCGACAGTATGCTGATGCCCCAGGTGTAATCTAGCAGGGACGCCT...  49.244761  48.520852\n",
       "13  GCCGACAGTATGCTGATGCCCCAGGTGTAATCTAGCAGGGACGCCT...  47.093985  47.291428\n",
       "14  GCCGACAGTATGCTGATGCCCCAGGTGTAATCTAGCAGGGACGCCT...  41.548804  39.324355\n",
       "15  GCCGACAGTATGCTGATGCCCCAGGTGTAATCTAGCAGGGACGCCT...  47.511235  46.528356\n",
       "16  GCCGACAGTATGCTGATGCCCCAGGTGTAATCTAGCAGGGACGCCT...  49.167142  47.326202\n",
       "17  GCCGACAGTATGCTGATGCCCCAGGTGTAATCTAGCAGGGACGCCT...  46.203390  46.480079\n",
       "18  GCCGACAGTATGCTGATGCCCCAGGTGTAATCTAGCAGGGACGCCT...  52.697790  49.987247\n",
       "19  GCCGACAGTATGCTGATGCCCCAGGTGTAATCTAGCAGGGACGCCT...  56.810155  53.980094\n",
       "20  GCCGACAGTATGCTGATGCCCCAGGTGTAATCTAGCAGGGACGCCT...  55.551394  50.817130\n",
       "21  GCCGACAGTATGCTGATGCCCCAGGTGTAATCTAGCAGGGACGCCT...  56.321500  51.437314\n",
       "22  GCCGACAGTATGCTGATGCCCCAGGTGTAATCTAGCAGGGACGCCT...  54.207203  48.832665\n",
       "23  GCCGACAGTATGCTGATGCCCCAGGTGTAATCTAGCAGGGACGCCT...  50.810180  46.281500\n",
       "24  GCCGACAGTATGCTGATGCCCCAGGTGTAATCTAGCAGGGACGCCT...  54.356405  51.798816\n",
       "25  GCCGACAGTATGCTGATGCCCCAGGTGTAATCTAGCAGGGACGCCT...  51.409827  48.592782\n",
       "26  GCCGACAGTATGCTGATGCCCCAGGTGTAATCTAGCAGGGACGCCT...  49.801627  49.057456\n",
       "27  GCCGACAGTATGCTGATGCCCCAGGTGTAATCTAGCAGGGACGCCT...  49.899926  49.825383\n",
       "28  GCCGACAGTATGCTGATGCCCCAGGTGTAATCTAGCAGGGACGCCT...  46.313583  48.214246\n",
       "29  GCCGACAGTATGCTGATGCCCCAGGTGTAATCTAGCAGGGACGCCT...  43.745335  45.722567\n",
       "30  GCCGACAGTATGCTGATGCCCCAGGTGTAATCTAGCAGGGACGCCT...  44.283606  44.286974\n",
       "31  GCCGACAGTATGCTGATGCCCCAGGTGTAATCTAGCAGGGACGCCT...  45.903078  45.142275\n",
       "32  GCCGACAGTATGCTGATGCCCCAGGTGTAATCTAGCAGGGACGCCT...  45.756983  43.338032\n",
       "33  GCCGACAGTATGCTGATGCCCCAGGTGTAATCTAGCAGGGACGCCT...  50.379217  47.522221\n",
       "34  GCCGACAGTATGCTGATGCCCCAGGTGTAATCTAGCAGGGACGCCT...  53.018826  50.529676\n",
       "35  GCCGACAGTATGCTGATGCCCCAGGTGTAATCTAGCAGGGACGCCT...  51.641840  48.749880\n",
       "36  GCCGACAGTATGCTGATGCCCCAGGTGTAATCTAGCAGGGACGCCT...  51.476928  50.945368\n",
       "37  GCCGACAGTATGCTGATGCCCCAGGTGTAATCTAGCAGGGACGCCT...  50.541111  48.284058\n",
       "38  GCCGACAGTATGCTGATGCCCCAGGTGTAATCTAGCAGGGACGCCT...  49.918565  48.280969\n",
       "39  GCCGACAGTATGCTGATGCCCCAGGTGTAATCTAGCAGGGACGCCT...  50.342383  46.206128\n",
       "40  GCCGACAGTATGCTGATGCCCCAGGTGTAATCTAGCAGGGACGCCT...  50.367767  47.369889\n",
       "41  GCCGACAGTATGCTGATGCCCCAGGTGTAATCTAGCAGGGACGCCT...  49.693032  48.774945\n",
       "42  GCCGACAGTATGCTGATGCCCCAGGTGTAATCTAGCAGGGACGCCT...  50.320992  48.620671\n",
       "43  GCCGACAGTATGCTGATGCCCCAGGTGTAATCTAGCAGGGACGCCT...  50.303640  48.532149\n",
       "44  GCCGACAGTATGCTGATGCCCCAGGTGTAATCTAGCAGGGACGCCT...  49.543209  48.401793"
      ]
     },
     "execution_count": 23,
     "metadata": {},
     "output_type": "execute_result"
    }
   ],
   "source": [
    "GC"
   ]
  },
  {
   "cell_type": "code",
   "execution_count": null,
   "id": "e3a9b5cb",
   "metadata": {},
   "outputs": [],
   "source": []
  },
  {
   "cell_type": "code",
   "execution_count": 32,
   "id": "f7e90a1f",
   "metadata": {},
   "outputs": [],
   "source": [
    "genome_subset = genome[2000000:3000000]"
   ]
  },
  {
   "cell_type": "code",
   "execution_count": 33,
   "id": "6bbe3ec5",
   "metadata": {},
   "outputs": [],
   "source": [
    "chi_sequence = \"GCTGGTGG\""
   ]
  },
  {
   "cell_type": "code",
   "execution_count": 34,
   "id": "3bd2bb41",
   "metadata": {},
   "outputs": [],
   "source": [
    "plus_strand = []\n",
    "\n",
    "for coordinate in range(len(genome_subset) - 8):\n",
    "\tif genome_subset[coordinate:(coordinate + 8)] == chi_sequence:\n",
    "\t\tplus_strand.append(coordinate + 2000000)"
   ]
  },
  {
   "cell_type": "code",
   "execution_count": 35,
   "id": "8695497b",
   "metadata": {
    "scrolled": true
   },
   "outputs": [],
   "source": [
    "chr_name = []\n",
    "interval_start = []\n",
    "interval_end = []\n",
    "interval_name = []\n",
    "\n",
    "for coordinate in plus_strand:\n",
    "    coordinate = coordinate - 10000\n",
    "    step = 500\n",
    "    interval_number = 1\n",
    "    while interval_number <= 40:\n",
    "        chr_name.append(genome_name)\n",
    "        interval_start.append(coordinate)\n",
    "        interval_end.append(coordinate + step)\n",
    "        interval_name.append(interval_number)\n",
    "        coordinate += step\n",
    "        interval_number += 1\n",
    "\n",
    "df = pd.DataFrame({'chr_name': chr_name, 'interval_start': interval_start, 'interval_end': interval_end, 'interval_name': interval_name})\n",
    "#df.to_csv('plus_intervals.bed', header=False, index=False, sep='\\t')"
   ]
  },
  {
   "cell_type": "code",
   "execution_count": 36,
   "id": "8d2466e1",
   "metadata": {},
   "outputs": [
    {
     "data": {
      "text/html": [
       "<div>\n",
       "<style scoped>\n",
       "    .dataframe tbody tr th:only-of-type {\n",
       "        vertical-align: middle;\n",
       "    }\n",
       "\n",
       "    .dataframe tbody tr th {\n",
       "        vertical-align: top;\n",
       "    }\n",
       "\n",
       "    .dataframe thead th {\n",
       "        text-align: right;\n",
       "    }\n",
       "</style>\n",
       "<table border=\"1\" class=\"dataframe\">\n",
       "  <thead>\n",
       "    <tr style=\"text-align: right;\">\n",
       "      <th></th>\n",
       "      <th>chr_name</th>\n",
       "      <th>interval_start</th>\n",
       "      <th>interval_end</th>\n",
       "      <th>interval_name</th>\n",
       "    </tr>\n",
       "  </thead>\n",
       "  <tbody>\n",
       "    <tr>\n",
       "      <th>0</th>\n",
       "      <td>NC_012971.2</td>\n",
       "      <td>2021004</td>\n",
       "      <td>2021504</td>\n",
       "      <td>1</td>\n",
       "    </tr>\n",
       "    <tr>\n",
       "      <th>1</th>\n",
       "      <td>NC_012971.2</td>\n",
       "      <td>2021504</td>\n",
       "      <td>2022004</td>\n",
       "      <td>2</td>\n",
       "    </tr>\n",
       "    <tr>\n",
       "      <th>2</th>\n",
       "      <td>NC_012971.2</td>\n",
       "      <td>2022004</td>\n",
       "      <td>2022504</td>\n",
       "      <td>3</td>\n",
       "    </tr>\n",
       "    <tr>\n",
       "      <th>3</th>\n",
       "      <td>NC_012971.2</td>\n",
       "      <td>2022504</td>\n",
       "      <td>2023004</td>\n",
       "      <td>4</td>\n",
       "    </tr>\n",
       "    <tr>\n",
       "      <th>4</th>\n",
       "      <td>NC_012971.2</td>\n",
       "      <td>2023004</td>\n",
       "      <td>2023504</td>\n",
       "      <td>5</td>\n",
       "    </tr>\n",
       "    <tr>\n",
       "      <th>...</th>\n",
       "      <td>...</td>\n",
       "      <td>...</td>\n",
       "      <td>...</td>\n",
       "      <td>...</td>\n",
       "    </tr>\n",
       "    <tr>\n",
       "      <th>1995</th>\n",
       "      <td>NC_012971.2</td>\n",
       "      <td>2930867</td>\n",
       "      <td>2931367</td>\n",
       "      <td>36</td>\n",
       "    </tr>\n",
       "    <tr>\n",
       "      <th>1996</th>\n",
       "      <td>NC_012971.2</td>\n",
       "      <td>2931367</td>\n",
       "      <td>2931867</td>\n",
       "      <td>37</td>\n",
       "    </tr>\n",
       "    <tr>\n",
       "      <th>1997</th>\n",
       "      <td>NC_012971.2</td>\n",
       "      <td>2931867</td>\n",
       "      <td>2932367</td>\n",
       "      <td>38</td>\n",
       "    </tr>\n",
       "    <tr>\n",
       "      <th>1998</th>\n",
       "      <td>NC_012971.2</td>\n",
       "      <td>2932367</td>\n",
       "      <td>2932867</td>\n",
       "      <td>39</td>\n",
       "    </tr>\n",
       "    <tr>\n",
       "      <th>1999</th>\n",
       "      <td>NC_012971.2</td>\n",
       "      <td>2932867</td>\n",
       "      <td>2933367</td>\n",
       "      <td>40</td>\n",
       "    </tr>\n",
       "  </tbody>\n",
       "</table>\n",
       "<p>2000 rows × 4 columns</p>\n",
       "</div>"
      ],
      "text/plain": [
       "         chr_name  interval_start  interval_end  interval_name\n",
       "0     NC_012971.2         2021004       2021504              1\n",
       "1     NC_012971.2         2021504       2022004              2\n",
       "2     NC_012971.2         2022004       2022504              3\n",
       "3     NC_012971.2         2022504       2023004              4\n",
       "4     NC_012971.2         2023004       2023504              5\n",
       "...           ...             ...           ...            ...\n",
       "1995  NC_012971.2         2930867       2931367             36\n",
       "1996  NC_012971.2         2931367       2931867             37\n",
       "1997  NC_012971.2         2931867       2932367             38\n",
       "1998  NC_012971.2         2932367       2932867             39\n",
       "1999  NC_012971.2         2932867       2933367             40\n",
       "\n",
       "[2000 rows x 4 columns]"
      ]
     },
     "execution_count": 36,
     "metadata": {},
     "output_type": "execute_result"
    }
   ],
   "source": [
    "df"
   ]
  },
  {
   "cell_type": "code",
   "execution_count": 37,
   "id": "bc1d8858",
   "metadata": {},
   "outputs": [],
   "source": [
    "minus_strand = []\n",
    "\n",
    "for coordinate in range(len(genome_subset) - 8):\n",
    "\tif genome_subset[coordinate:(coordinate + 8)] == reverse_complement(chi_sequence):\n",
    "\t\tminus_strand.append(coordinate + 2000000)"
   ]
  },
  {
   "cell_type": "code",
   "execution_count": 38,
   "id": "501f1370",
   "metadata": {},
   "outputs": [],
   "source": [
    "chr_name = []\n",
    "interval_start = []\n",
    "interval_end = []\n",
    "interval_name = []\n",
    "\n",
    "for coordinate in minus_strand:\n",
    "    coordinate = coordinate + 10000\n",
    "    step = 500\n",
    "    interval_number = 1\n",
    "    while interval_number <= 40:\n",
    "        chr_name.append(genome_name)\n",
    "        interval_start.append(coordinate)\n",
    "        interval_end.append(coordinate + step)\n",
    "        interval_name.append(interval_number)\n",
    "        coordinate -= step\n",
    "        interval_number += 1\n",
    "\n",
    "df = pd.DataFrame({'chr_name': chr_name, 'interval_start': interval_start, 'interval_end': interval_end, 'interval_name': interval_name})\n",
    "#df.to_csv('minus_intervals.bed', header=False, index=False, sep='\\t')"
   ]
  },
  {
   "cell_type": "code",
   "execution_count": 39,
   "id": "541446a2",
   "metadata": {},
   "outputs": [
    {
     "data": {
      "text/html": [
       "<div>\n",
       "<style scoped>\n",
       "    .dataframe tbody tr th:only-of-type {\n",
       "        vertical-align: middle;\n",
       "    }\n",
       "\n",
       "    .dataframe tbody tr th {\n",
       "        vertical-align: top;\n",
       "    }\n",
       "\n",
       "    .dataframe thead th {\n",
       "        text-align: right;\n",
       "    }\n",
       "</style>\n",
       "<table border=\"1\" class=\"dataframe\">\n",
       "  <thead>\n",
       "    <tr style=\"text-align: right;\">\n",
       "      <th></th>\n",
       "      <th>chr_name</th>\n",
       "      <th>interval_start</th>\n",
       "      <th>interval_end</th>\n",
       "      <th>interval_name</th>\n",
       "    </tr>\n",
       "  </thead>\n",
       "  <tbody>\n",
       "    <tr>\n",
       "      <th>0</th>\n",
       "      <td>NC_012971.2</td>\n",
       "      <td>2020015</td>\n",
       "      <td>2020515</td>\n",
       "      <td>1</td>\n",
       "    </tr>\n",
       "    <tr>\n",
       "      <th>1</th>\n",
       "      <td>NC_012971.2</td>\n",
       "      <td>2019515</td>\n",
       "      <td>2020015</td>\n",
       "      <td>2</td>\n",
       "    </tr>\n",
       "    <tr>\n",
       "      <th>2</th>\n",
       "      <td>NC_012971.2</td>\n",
       "      <td>2019015</td>\n",
       "      <td>2019515</td>\n",
       "      <td>3</td>\n",
       "    </tr>\n",
       "    <tr>\n",
       "      <th>3</th>\n",
       "      <td>NC_012971.2</td>\n",
       "      <td>2018515</td>\n",
       "      <td>2019015</td>\n",
       "      <td>4</td>\n",
       "    </tr>\n",
       "    <tr>\n",
       "      <th>4</th>\n",
       "      <td>NC_012971.2</td>\n",
       "      <td>2018015</td>\n",
       "      <td>2018515</td>\n",
       "      <td>5</td>\n",
       "    </tr>\n",
       "    <tr>\n",
       "      <th>...</th>\n",
       "      <td>...</td>\n",
       "      <td>...</td>\n",
       "      <td>...</td>\n",
       "      <td>...</td>\n",
       "    </tr>\n",
       "    <tr>\n",
       "      <th>6835</th>\n",
       "      <td>NC_012971.2</td>\n",
       "      <td>2988611</td>\n",
       "      <td>2989111</td>\n",
       "      <td>36</td>\n",
       "    </tr>\n",
       "    <tr>\n",
       "      <th>6836</th>\n",
       "      <td>NC_012971.2</td>\n",
       "      <td>2988111</td>\n",
       "      <td>2988611</td>\n",
       "      <td>37</td>\n",
       "    </tr>\n",
       "    <tr>\n",
       "      <th>6837</th>\n",
       "      <td>NC_012971.2</td>\n",
       "      <td>2987611</td>\n",
       "      <td>2988111</td>\n",
       "      <td>38</td>\n",
       "    </tr>\n",
       "    <tr>\n",
       "      <th>6838</th>\n",
       "      <td>NC_012971.2</td>\n",
       "      <td>2987111</td>\n",
       "      <td>2987611</td>\n",
       "      <td>39</td>\n",
       "    </tr>\n",
       "    <tr>\n",
       "      <th>6839</th>\n",
       "      <td>NC_012971.2</td>\n",
       "      <td>2986611</td>\n",
       "      <td>2987111</td>\n",
       "      <td>40</td>\n",
       "    </tr>\n",
       "  </tbody>\n",
       "</table>\n",
       "<p>6840 rows × 4 columns</p>\n",
       "</div>"
      ],
      "text/plain": [
       "         chr_name  interval_start  interval_end  interval_name\n",
       "0     NC_012971.2         2020015       2020515              1\n",
       "1     NC_012971.2         2019515       2020015              2\n",
       "2     NC_012971.2         2019015       2019515              3\n",
       "3     NC_012971.2         2018515       2019015              4\n",
       "4     NC_012971.2         2018015       2018515              5\n",
       "...           ...             ...           ...            ...\n",
       "6835  NC_012971.2         2988611       2989111             36\n",
       "6836  NC_012971.2         2988111       2988611             37\n",
       "6837  NC_012971.2         2987611       2988111             38\n",
       "6838  NC_012971.2         2987111       2987611             39\n",
       "6839  NC_012971.2         2986611       2987111             40\n",
       "\n",
       "[6840 rows x 4 columns]"
      ]
     },
     "execution_count": 39,
     "metadata": {},
     "output_type": "execute_result"
    }
   ],
   "source": [
    "df"
   ]
  },
  {
   "cell_type": "code",
   "execution_count": null,
   "id": "5714209c",
   "metadata": {},
   "outputs": [],
   "source": []
  },
  {
   "cell_type": "code",
   "execution_count": null,
   "id": "be36116c",
   "metadata": {},
   "outputs": [],
   "source": []
  },
  {
   "cell_type": "code",
   "execution_count": null,
   "id": "e6f26db4",
   "metadata": {},
   "outputs": [],
   "source": []
  },
  {
   "cell_type": "code",
   "execution_count": null,
   "id": "a8fca5e7",
   "metadata": {},
   "outputs": [],
   "source": []
  },
  {
   "cell_type": "code",
   "execution_count": 39,
   "id": "19698e4b",
   "metadata": {},
   "outputs": [],
   "source": [
    "plus_strand = []\n",
    "\n",
    "for coordinate in range(len(genome) - 8):\n",
    "\tif genome[coordinate:(coordinate + 8)] == chi_sequence:\n",
    "\t\tplus_strand.append(coordinate)\n",
    "\n",
    "\n",
    "minus_strand = []\n",
    "\n",
    "for coordinate in range(8, len(genome)):\n",
    "\tif genome[coordinate:(coordinate + 8)] == reverse_complement(chi_sequence):\n",
    "\t\tminus_strand.append(coordinate)"
   ]
  },
  {
   "cell_type": "code",
   "execution_count": 44,
   "id": "9b45cfe1",
   "metadata": {},
   "outputs": [],
   "source": [
    "def site_slice(coordinate_list, start, end):\n",
    "    '''\n",
    "    This function takes a list of coordinate and two numbers: start and end.\n",
    "    It returns another list with those coordinates that fit in the interval [start:end].\n",
    "    '''\n",
    "    result_list = []\n",
    "    for coordinate in coordinate_list:\n",
    "        if start < coordinate < end:\n",
    "            result_list.append(coordinate)\n",
    "            \n",
    "    return result_list"
   ]
  },
  {
   "cell_type": "code",
   "execution_count": 46,
   "id": "90aae2e7",
   "metadata": {},
   "outputs": [],
   "source": [
    "plus_strand = site_slice(plus_strand, 2000000, 3000000)"
   ]
  },
  {
   "cell_type": "code",
   "execution_count": 48,
   "id": "cec7a0e6",
   "metadata": {},
   "outputs": [],
   "source": [
    "minus_strand = site_slice(minus_strand, 2000000, 3000000)"
   ]
  },
  {
   "cell_type": "code",
   "execution_count": null,
   "id": "b4fff79f",
   "metadata": {},
   "outputs": [],
   "source": []
  }
 ],
 "metadata": {
  "kernelspec": {
   "display_name": "Python 3 (ipykernel)",
   "language": "python",
   "name": "python3"
  },
  "language_info": {
   "codemirror_mode": {
    "name": "ipython",
    "version": 3
   },
   "file_extension": ".py",
   "mimetype": "text/x-python",
   "name": "python",
   "nbconvert_exporter": "python",
   "pygments_lexer": "ipython3",
   "version": "3.8.5"
  }
 },
 "nbformat": 4,
 "nbformat_minor": 5
}
